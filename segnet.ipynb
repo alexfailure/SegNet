{
 "cells": [
  {
   "cell_type": "code",
   "execution_count": 1,
   "metadata": {
    "collapsed": true
   },
   "outputs": [],
   "source": [
    "import os\n",
    "os.environ['KERAS_BACKEND'] = 'theano'\n",
    "os.environ['THEANO_FLAGS']='mode=FAST_RUN,device=gpu0,floatX=float32,optimizer=fast_compile,exception_verbosity=high'"
   ]
  },
  {
   "cell_type": "code",
   "execution_count": 2,
   "metadata": {
    "collapsed": false
   },
   "outputs": [
    {
     "name": "stdout",
     "output_type": "stream",
     "text": [
      "Couldn't import dot_parser, loading of dot files will not be possible.\n"
     ]
    },
    {
     "name": "stderr",
     "output_type": "stream",
     "text": [
      "Using gpu device 0: GeForce GTX 1070 (CNMeM is enabled with initial size: 90.0% of memory, cuDNN 5105)\n",
      "Using Theano backend.\n"
     ]
    }
   ],
   "source": [
    "from __future__ import absolute_import\n",
    "from __future__ import print_function\n",
    "import pylab as pl\n",
    "import matplotlib.cm as cm\n",
    "import itertools\n",
    "import numpy as np\n",
    "import theano.tensor as T\n",
    "np.random.seed(1337) # for reproducibility\n",
    "\n",
    "import keras.models as models\n",
    "from keras.layers import Layer, Dense, Dropout, Activation, Flatten, Reshape, Merge, Permute\n",
    "from keras.layers.convolutional import Convolution2D, MaxPooling2D, UpSampling2D, ZeroPadding2D\n",
    "from keras.layers.normalization import BatchNormalization\n",
    "from keras.utils import np_utils\n",
    "from keras.layers.advanced_activations import ELU\n",
    "\n",
    "from keras import backend as K\n",
    "\n",
    "import cv2\n",
    "import numpy as np"
   ]
  },
  {
   "cell_type": "code",
   "execution_count": 3,
   "metadata": {
    "collapsed": false
   },
   "outputs": [],
   "source": [
    "K.set_image_dim_ordering('tf')"
   ]
  },
  {
   "cell_type": "markdown",
   "metadata": {},
   "source": [
    "### Get decoder from VGG16"
   ]
  },
  {
   "cell_type": "code",
   "execution_count": 4,
   "metadata": {
    "collapsed": true
   },
   "outputs": [],
   "source": [
    "K.set_image_dim_ordering('tf')\n",
    "from keras.applications.vgg16 import VGG16\n",
    "model = VGG16(include_top=False, weights='imagenet', input_shape=(224, 224, 3))\n",
    "model.save_weights('theano_weight_tf.h5')"
   ]
  },
  {
   "cell_type": "markdown",
   "metadata": {},
   "source": [
    "## Segnet"
   ]
  },
  {
   "cell_type": "code",
   "execution_count": 5,
   "metadata": {
    "collapsed": true
   },
   "outputs": [],
   "source": [
    "#input image configuration\n",
    "img_height = 224\n",
    "img_width = 448\n",
    "img_channels = 3\n",
    "\n",
    "#NN configuration\n",
    "kernel_size = (3, 3)\n",
    "filter_size = 64\n",
    "pool_size = (2,2)"
   ]
  },
  {
   "cell_type": "code",
   "execution_count": 6,
   "metadata": {
    "collapsed": true
   },
   "outputs": [],
   "source": [
    "def add_conv_batchnorm_input(model, filter_size, input_shape):\n",
    "    model.add(Convolution2D(filter_size, (3, 3), activation=None, padding='same', input_shape=input_shape))\n",
    "    model.add(BatchNormalization())\n",
    "    model.add(Activation('relu'))"
   ]
  },
  {
   "cell_type": "code",
   "execution_count": 7,
   "metadata": {
    "collapsed": true
   },
   "outputs": [],
   "source": [
    "def add_conv_batchnorm(model, filter_size):\n",
    "    model.add(Convolution2D(filter_size, (3, 3), activation=None, padding='same'))\n",
    "    model.add(BatchNormalization())\n",
    "    model.add(Activation('relu'))"
   ]
  },
  {
   "cell_type": "code",
   "execution_count": 8,
   "metadata": {
    "collapsed": true
   },
   "outputs": [],
   "source": [
    "def get_encoder(model):\n",
    "    add_conv_batchnorm_input(model, 64, (img_height, img_width, 3))\n",
    "    add_conv_batchnorm(model, 64)\n",
    "    model.add(MaxPooling2D(pool_size=pool_size))\n",
    "    \n",
    "    add_conv_batchnorm(model, 128)\n",
    "    add_conv_batchnorm(model, 128)\n",
    "    model.add(MaxPooling2D(pool_size=pool_size))\n",
    "    \n",
    "    add_conv_batchnorm(model, 256)\n",
    "    add_conv_batchnorm(model, 256)\n",
    "    add_conv_batchnorm(model, 256)\n",
    "    model.add(MaxPooling2D(pool_size=pool_size))\n",
    "    \n",
    "    add_conv_batchnorm(model, 512)\n",
    "    add_conv_batchnorm(model, 512)\n",
    "    add_conv_batchnorm(model, 512)\n",
    "    model.add(MaxPooling2D(pool_size=pool_size))\n",
    "    \n",
    "    add_conv_batchnorm(model, 512)\n",
    "    add_conv_batchnorm(model, 512)\n",
    "    add_conv_batchnorm(model, 512)\n",
    "    model.add(MaxPooling2D(pool_size=pool_size))"
   ]
  },
  {
   "cell_type": "code",
   "execution_count": 9,
   "metadata": {
    "collapsed": true
   },
   "outputs": [],
   "source": [
    "from keras.utils import layer_utils"
   ]
  },
  {
   "cell_type": "code",
   "execution_count": 10,
   "metadata": {
    "collapsed": true
   },
   "outputs": [],
   "source": [
    "idx_old = [1, 2, 4, 5, 7, 8, 9, 11, 12, 13, 15, 16, 17]\n",
    "idx_new = [0, 3, 7, 10, 14, 17, 20, 24, 27, 30, 34, 37, 40]"
   ]
  },
  {
   "cell_type": "code",
   "execution_count": 11,
   "metadata": {
    "collapsed": false
   },
   "outputs": [
    {
     "name": "stdout",
     "output_type": "stream",
     "text": [
      "VGG Model weights loaded.\n"
     ]
    }
   ],
   "source": [
    "#get decoder weights from vgg\n",
    "\n",
    "import h5py\n",
    "\n",
    "weights_path = 'theano_weight_tf.h5'\n",
    "\n",
    "f = h5py.File(weights_path)\n",
    " \n",
    "layer_names = [name for name in f.attrs['layer_names']]\n",
    "\n",
    "model = models.Sequential()\n",
    "get_encoder(model)\n",
    "\n",
    "for i, k in enumerate(idx_new):\n",
    "        g = f[layer_names[idx_old[i]]]\n",
    "        weights = [g[name] for name in g.attrs['weight_names']]\n",
    "        model.layers[k].set_weights(weights)\n",
    "        \n",
    "print('VGG Model weights loaded.')"
   ]
  },
  {
   "cell_type": "code",
   "execution_count": 12,
   "metadata": {
    "collapsed": false
   },
   "outputs": [],
   "source": [
    "freeze_layers_num = len(model.layers)"
   ]
  },
  {
   "cell_type": "code",
   "execution_count": 13,
   "metadata": {
    "collapsed": true
   },
   "outputs": [],
   "source": [
    "#function for decoder layers\n",
    "def get_decoder_layers(model):\n",
    "    model.add(UpSampling2D(size=pool_size))\n",
    "    add_conv_batchnorm(model, 512)\n",
    "    add_conv_batchnorm(model, 512)\n",
    "    add_conv_batchnorm(model, 512)\n",
    "    \n",
    "    model.add(UpSampling2D(size=pool_size))\n",
    "    add_conv_batchnorm(model, 512)\n",
    "    add_conv_batchnorm(model, 512)\n",
    "    add_conv_batchnorm(model, 512)\n",
    "    \n",
    "    model.add(UpSampling2D(size=pool_size))\n",
    "    add_conv_batchnorm(model, 256)\n",
    "    add_conv_batchnorm(model, 256)\n",
    "    add_conv_batchnorm(model, 256)\n",
    "    \n",
    "    model.add(UpSampling2D(size=pool_size))\n",
    "    add_conv_batchnorm(model, 128)\n",
    "    add_conv_batchnorm(model, 128)\n",
    "    \n",
    "    model.add(UpSampling2D(size=pool_size))\n",
    "    add_conv_batchnorm(model, 64)\n",
    "    add_conv_batchnorm(model, 64)"
   ]
  },
  {
   "cell_type": "code",
   "execution_count": 14,
   "metadata": {
    "collapsed": false
   },
   "outputs": [],
   "source": [
    "#add decoder layers\n",
    "get_decoder_layers(model)\n",
    "\n",
    "data_shape = img_height * img_width\n",
    "\n",
    "#add classfication layer\n",
    "model.add(Convolution2D(12, (1, 1), padding='same'))\n",
    "model.add(Reshape((12,data_shape)))\n",
    "model.add(Permute((2, 1)))\n",
    "model.add(Activation('softmax'))"
   ]
  },
  {
   "cell_type": "code",
   "execution_count": 15,
   "metadata": {
    "collapsed": false
   },
   "outputs": [],
   "source": [
    "#compile model\n",
    "model.compile(loss=\"categorical_crossentropy\", optimizer='adam')"
   ]
  },
  {
   "cell_type": "markdown",
   "metadata": {},
   "source": [
    "### Test if all correct"
   ]
  },
  {
   "cell_type": "code",
   "execution_count": 16,
   "metadata": {
    "collapsed": false
   },
   "outputs": [],
   "source": [
    "a = model.predict(np.zeros((1,img_height, img_width, 3)))"
   ]
  },
  {
   "cell_type": "code",
   "execution_count": 17,
   "metadata": {
    "collapsed": false
   },
   "outputs": [
    {
     "data": {
      "text/plain": [
       "(1, 100352, 12)"
      ]
     },
     "execution_count": 17,
     "metadata": {},
     "output_type": "execute_result"
    }
   ],
   "source": [
    "a.shape"
   ]
  },
  {
   "cell_type": "markdown",
   "metadata": {},
   "source": [
    "## Data preprocessing"
   ]
  },
  {
   "cell_type": "code",
   "execution_count": 18,
   "metadata": {
    "collapsed": true
   },
   "outputs": [],
   "source": [
    "from matplotlib import pyplot as plt\n",
    "%matplotlib inline"
   ]
  },
  {
   "cell_type": "code",
   "execution_count": 19,
   "metadata": {
    "collapsed": true
   },
   "outputs": [],
   "source": [
    "from skimage.io import imread\n",
    "img = imread('aachen_000000_000019_gtFine_color.png')"
   ]
  },
  {
   "cell_type": "code",
   "execution_count": 20,
   "metadata": {
    "collapsed": false
   },
   "outputs": [
    {
     "data": {
      "text/plain": [
       "<matplotlib.image.AxesImage at 0x7f71a86a6190>"
      ]
     },
     "execution_count": 20,
     "metadata": {},
     "output_type": "execute_result"
    },
    {
     "data": {
      "image/png": "[encoded data removed]",
      "text/plain": [
       "<matplotlib.figure.Figure at 0x7f71a88dbbd0>"
      ]
     },
     "metadata": {},
     "output_type": "display_data"
    }
   ],
   "source": [
    "plt.imshow(img)"
   ]
  },
  {
   "cell_type": "code",
   "execution_count": 22,
   "metadata": {
    "collapsed": false
   },
   "outputs": [],
   "source": [
    "from skimage.transform import resize\n",
    "img_resized = resize(img, (224, 448))"
   ]
  },
  {
   "cell_type": "code",
   "execution_count": 23,
   "metadata": {
    "collapsed": false
   },
   "outputs": [
    {
     "data": {
      "text/plain": [
       "<matplotlib.image.AxesImage at 0x7f71a91213d0>"
      ]
     },
     "execution_count": 23,
     "metadata": {},
     "output_type": "execute_result"
    },
    {
     "data": {
      "image/png": "[encoded data removed]",
      "text/plain": [
       "<matplotlib.figure.Figure at 0x7f71a8e34ed0>"
      ]
     },
     "metadata": {},
     "output_type": "display_data"
    }
   ],
   "source": [
    "plt.imshow(img_resized)"
   ]
  }
 ],
 "metadata": {
  "kernelspec": {
   "display_name": "Python 2",
   "language": "python",
   "name": "python2"
  },
  "language_info": {
   "codemirror_mode": {
    "name": "ipython",
    "version": 2
   },
   "file_extension": ".py",
   "mimetype": "text/x-python",
   "name": "python",
   "nbconvert_exporter": "python",
   "pygments_lexer": "ipython2",
   "version": "2.7.6"
  }
 },
 "nbformat": 4,
 "nbformat_minor": 0
}
